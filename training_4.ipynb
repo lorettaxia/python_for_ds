{
 "cells": [
  {
   "cell_type": "markdown",
   "metadata": {},
   "source": [
    "# Dive into Python. Part III\n",
    "\n",
    "\n",
    "\n",
    "\n",
    "**Agenda:**\n",
    "\n",
    "    * modules\n",
    "    * packages\n",
    "    * envs\n",
    "    * peps\n",
    "    * pip\n",
    "    * GIL\n",
    "    * logging"
   ]
  },
  {
   "cell_type": "markdown",
   "metadata": {},
   "source": [
    "Python is not just language itself. Its power comes from community and tools around it too."
   ]
  },
  {
   "cell_type": "markdown",
   "metadata": {},
   "source": [
    "# Module\n",
    "\n",
    "Modules in Python are simply Python files with a .py or .pyc extension. The name of the module will be the name of the file. A Python module can have a set of functions, classes or variables defined and implemented. In the example above, we will have two files, we will have:"
   ]
  },
  {
   "cell_type": "code",
   "execution_count": 1,
   "metadata": {
    "collapsed": true
   },
   "outputs": [],
   "source": [
    "# Go to creating a module.py"
   ]
  },
  {
   "cell_type": "code",
   "execution_count": 2,
   "metadata": {},
   "outputs": [
    {
     "name": "stdout",
     "output_type": "stream",
     "text": [
      "Hello, World!\n"
     ]
    }
   ],
   "source": [
    "# Import module\n",
    "import module\n",
    "\n",
    "\n",
    "# Call function\n",
    "module.world()"
   ]
  },
  {
   "cell_type": "markdown",
   "metadata": {},
   "source": [
    "We could instead import the module as from hello import world and call the function directly as world(). You can learn more about this method by reading how to using from ... import when importing modules. "
   ]
  },
  {
   "cell_type": "code",
   "execution_count": 3,
   "metadata": {},
   "outputs": [
    {
     "name": "stdout",
     "output_type": "stream",
     "text": [
      "Hello, World!\n"
     ]
    }
   ],
   "source": [
    "# Import module\n",
    "from module import world\n",
    "\n",
    "\n",
    "# Call function\n",
    "world()"
   ]
  },
  {
   "cell_type": "code",
   "execution_count": 4,
   "metadata": {},
   "outputs": [
    {
     "name": "stdout",
     "output_type": "stream",
     "text": [
      "Script executed!\r\n"
     ]
    }
   ],
   "source": [
    "!python3 module.py"
   ]
  },
  {
   "cell_type": "code",
   "execution_count": 10,
   "metadata": {},
   "outputs": [
    {
     "name": "stdout",
     "output_type": "stream",
     "text": [
      "[0.21778115547154786, 0.688484208011857, 0.3930914003773508, 0.003038595668745092, 0.4777858485320512, 0.5105700324443067, 0.4976274529049619, 0.4955520383293158, 0.7873700120352265, 0.12825096285744086]\n",
      "0.41995517066328036\n",
      "0.4866689434306835\n"
     ]
    }
   ],
   "source": [
    "# Import module\n",
    "from module import stats\n",
    "import random\n",
    "\n",
    "\n",
    "arr = [random.random() for e in range(10)]\n",
    "print(arr)\n",
    "s = stats()\n",
    "print(s.mean(arr))\n",
    "print(s.median(arr))"
   ]
  },
  {
   "cell_type": "markdown",
   "metadata": {},
   "source": [
    "The first time a module is loaded into a running Python script, it is initialized by executing the code in the module once. If another module in your code imports the same module again, it will not be loaded twice but once only - so local variables inside the module act as a \"singleton\" - they are initialized only once.\n",
    "\n",
    "This is useful to know, because this means that you can rely on this behavior for initializing objects."
   ]
  },
  {
   "cell_type": "markdown",
   "metadata": {},
   "source": [
    "# Exploring built-in modules"
   ]
  },
  {
   "cell_type": "markdown",
   "metadata": {},
   "source": [
    "https://docs.python.org/3/library/"
   ]
  },
  {
   "cell_type": "code",
   "execution_count": 16,
   "metadata": {},
   "outputs": [
    {
     "name": "stdout",
     "output_type": "stream",
     "text": [
      "version 3.5.2\n"
     ]
    }
   ],
   "source": [
    "import sys\n",
    "print('version {}.{}.{}'.format(*sys.version_info))  # gets version of the Python language"
   ]
  },
  {
   "cell_type": "code",
   "execution_count": 12,
   "metadata": {},
   "outputs": [
    {
     "data": {
      "text/plain": [
       "'posix'"
      ]
     },
     "execution_count": 12,
     "metadata": {},
     "output_type": "execute_result"
    }
   ],
   "source": [
    "import os\n",
    "os.name  # <-- get operating system mame"
   ]
  },
  {
   "cell_type": "code",
   "execution_count": 13,
   "metadata": {},
   "outputs": [
    {
     "data": {
      "text/plain": [
       "'/usr/local/bin:/usr/local/sbin:/usr/local/bin:/usr/sbin:/usr/bin:/sbin:/bin'"
      ]
     },
     "execution_count": 13,
     "metadata": {},
     "output_type": "execute_result"
    }
   ],
   "source": [
    "os.getenv('PATH')  # <-- gets env variable"
   ]
  },
  {
   "cell_type": "code",
   "execution_count": 14,
   "metadata": {},
   "outputs": [
    {
     "data": {
      "text/plain": [
       "'/home/dlab-user'"
      ]
     },
     "execution_count": 14,
     "metadata": {},
     "output_type": "execute_result"
    }
   ],
   "source": [
    "os.getcwd()  # <-- gets current directory"
   ]
  },
  {
   "cell_type": "code",
   "execution_count": 17,
   "metadata": {},
   "outputs": [
    {
     "data": {
      "text/plain": [
       "717"
      ]
     },
     "execution_count": 17,
     "metadata": {},
     "output_type": "execute_result"
    }
   ],
   "source": [
    "import random\n",
    "random.randint(1, 1000)  # <-- returns random number in range 1-1000"
   ]
  },
  {
   "cell_type": "code",
   "execution_count": 20,
   "metadata": {},
   "outputs": [
    {
     "name": "stdout",
     "output_type": "stream",
     "text": [
      "[0, 1, 2, 3, 4, 5, 6, 7, 8, 9]\n",
      "[7, 3, 8, 5, 1, 0, 4, 6, 9, 2]\n"
     ]
    }
   ],
   "source": [
    "x = list(range(10))\n",
    "print(x)\n",
    "random.shuffle(x)\n",
    "print(x)"
   ]
  },
  {
   "cell_type": "code",
   "execution_count": 25,
   "metadata": {},
   "outputs": [
    {
     "name": "stdout",
     "output_type": "stream",
     "text": [
      "2018-05-23 08:09:59.845811\n",
      "2018 5 23\n"
     ]
    }
   ],
   "source": [
    "from datetime import datetime\n",
    "now = datetime.now()\n",
    "print(now)\n",
    "print(now.year, now.month, now.day)"
   ]
  },
  {
   "cell_type": "code",
   "execution_count": 27,
   "metadata": {},
   "outputs": [
    {
     "data": {
      "text/plain": [
       "2.302585092994046"
      ]
     },
     "execution_count": 27,
     "metadata": {},
     "output_type": "execute_result"
    }
   ],
   "source": [
    "import math\n",
    "math.log(10)"
   ]
  },
  {
   "cell_type": "code",
   "execution_count": 29,
   "metadata": {},
   "outputs": [
    {
     "data": {
      "text/plain": [
       "12.0"
      ]
     },
     "execution_count": 29,
     "metadata": {},
     "output_type": "execute_result"
    }
   ],
   "source": [
    "math.sqrt(144)"
   ]
  },
  {
   "cell_type": "markdown",
   "metadata": {},
   "source": [
    "# Pip"
   ]
  },
  {
   "cell_type": "markdown",
   "metadata": {},
   "source": [
    " Pip is a package management system used to install and manage software packages, such as those found in the Python Package Index(https://pypi.org/). "
   ]
  },
  {
   "cell_type": "markdown",
   "metadata": {},
   "source": [
    "For python2 \n",
    "\n",
    "```\n",
    "pip install <package-name>\n",
    "```\n",
    "\n",
    "For python3\n",
    "\n",
    "```\n",
    "pip3 install <package-name>\n",
    "```"
   ]
  },
  {
   "cell_type": "code",
   "execution_count": 34,
   "metadata": {},
   "outputs": [
    {
     "name": "stdout",
     "output_type": "stream",
     "text": [
      "Requirement already satisfied: scipy in /usr/local/lib/python3.5/dist-packages/scipy-1.0.0-py3.5-linux-x86_64.egg\n",
      "\u001b[33mYou are using pip version 9.0.3, however version 10.0.1 is available.\n",
      "You should consider upgrading via the 'pip install --upgrade pip' command.\u001b[0m\n"
     ]
    }
   ],
   "source": [
    "!pip3 install scipy"
   ]
  },
  {
   "cell_type": "code",
   "execution_count": 35,
   "metadata": {},
   "outputs": [
    {
     "name": "stdout",
     "output_type": "stream",
     "text": [
      "Requirement already satisfied: scipy==1.0 in /usr/local/lib/python3.5/dist-packages/scipy-1.0.0-py3.5-linux-x86_64.egg\n",
      "\u001b[33mYou are using pip version 9.0.3, however version 10.0.1 is available.\n",
      "You should consider upgrading via the 'pip install --upgrade pip' command.\u001b[0m\n"
     ]
    }
   ],
   "source": [
    "!pip3 install scipy==1.0"
   ]
  },
  {
   "cell_type": "markdown",
   "metadata": {},
   "source": [
    "For upgrading version of the package:\n",
    "    \n",
    "```\n",
    "pip3 install --upgrade <package-name>\n",
    "```"
   ]
  },
  {
   "cell_type": "markdown",
   "metadata": {},
   "source": [
    "For removing package:\n",
    "    \n",
    "```\n",
    "pip3 uninstall <package-name>\n",
    "```"
   ]
  },
  {
   "cell_type": "markdown",
   "metadata": {},
   "source": [
    "Search PyPI for packages\n",
    "\n",
    "```\n",
    "pip3 search \"<keyword>\"\n",
    "```"
   ]
  },
  {
   "cell_type": "code",
   "execution_count": 31,
   "metadata": {},
   "outputs": [
    {
     "name": "stdout",
     "output_type": "stream",
     "text": [
      "date-query (0.10.2)                                         - A program to\r\n",
      "                                                              query dates\r\n",
      "json-query (0.0.2)                                          - JSON Query tools\r\n",
      "juju-query (0.0.1)                                          - Juju query\r\n",
      "                                                              charmstore\r\n",
      "nameko-query (0.0.2)                                        - Query extension\r\n",
      "                                                              for nameko.\r\n",
      "graphite-query (0.11.3)                                     - Utilities for\r\n",
      "                                                              querying\r\n",
      "                                                              graphite's\r\n",
      "                                                              database\r\n",
      "version-query (1.0.1)                                       - Package version\r\n",
      "                                                              query toolkit\r\n",
      "                                                              for Python\r\n",
      "django-query (1.0.0)                                        - Get Django Query\r\n",
      "                                                              Values by\r\n",
      "                                                              POST/GET\r\n",
      "query-selector (0.99.4)                                     - Organize app\r\n",
      "                                                              queries in an\r\n",
      "                                                              annotated SQL\r\n",
      "                                                              file.\r\n",
      "system-query (0.1.0)                                        - comprehensive\r\n",
      "                                                              and concise\r\n",
      "                                                              system\r\n",
      "                                                              information\r\n",
      "                                                              querying tool\r\n",
      "query-exporter (1.3.0)                                      - Export\r\n",
      "                                                              Prometheus\r\n",
      "                                                              metrics\r\n",
      "                                                              generated from\r\n",
      "                                                              SQL queries.\r\n",
      "split-query (0.2.2)                                         - Tools for\r\n",
      "                                                              breaking up\r\n",
      "                                                              queries for\r\n",
      "                                                              caching,\r\n",
      "                                                              processing, etc.\r\n",
      "git-query (0.0.2)                                           - Tool to query\r\n",
      "                                                              info from Gerrit\r\n",
      "                                                              like pending\r\n",
      "                                                              reviews\r\n",
      "rest-query (0.1.2)                                          - A parser for\r\n",
      "                                                              rest query\r\n",
      "                                                              request. like\r\n",
      "                                                              no-sql select\r\n",
      "                                                              style\r\n",
      "query (0.1.4)                                               - Quick\r\n",
      "                                                              interactive\r\n",
      "                                                              exploration of\r\n",
      "                                                              SQL databases.\r\n",
      "django-query-signals (0.0.2)                                - Django Query\r\n",
      "                                                              Signals\r\n",
      "redash-dynamic-query (1.0.1)                                - Redash Dynamic\r\n",
      "                                                              Query\r\n",
      "django-query-builder (1.1.0)                                - Build complex\r\n",
      "                                                              nested queries\r\n",
      "django-rank-query (0.1.0)                                   - Enable SQL\r\n",
      "                                                              Window functions\r\n",
      "                                                              for use in\r\n",
      "                                                              Django queries.\r\n",
      "                                                              Add rank to your\r\n",
      "                                                              query.\r\n",
      "django-cli-query (1.3)                                      - Django\r\n",
      "                                                              management\r\n",
      "                                                              command for\r\n",
      "                                                              commandline\r\n",
      "                                                              querying\r\n",
      "django-query-caching (0.1.1)                                - Caches the\r\n",
      "                                                              results of SQL\r\n",
      "                                                              queries\r\n",
      "                                                              transparently.\r\n",
      "django-query-logger (0.1.2)                                 - A mixin for\r\n",
      "                                                              logging and\r\n",
      "                                                              debugging Django\r\n",
      "                                                              queries\r\n",
      "inspire-query-parser (3.2.1)                                - A PEG-based\r\n",
      "                                                              query parser for\r\n",
      "                                                              INSPIRE.\r\n",
      "cnx-query-grammar (0.2.2)                                   - Connexions\r\n",
      "                                                              project search\r\n",
      "                                                              query parsing\r\n",
      "                                                              library.\r\n",
      "mixpanel-query-py (0.1.9)                                   - The Python\r\n",
      "                                                              interface to\r\n",
      "                                                              query data from\r\n",
      "                                                              Mixpanel.\r\n",
      "Naver-Book-Query (0.9.1)                                    - Use naver book\r\n",
      "                                                              query like\r\n",
      "                                                              sqlalchemy\r\n",
      "pythonic-sqlalchemy-query (1.2.0)                           - Provide concise,\r\n",
      "                                                              Pythonic query\r\n",
      "                                                              syntax for\r\n",
      "                                                              SQLAlchemy\r\n",
      "django-rest-query (0.1.1)                                   - A rest query\r\n",
      "                                                              request args\r\n",
      "                                                              parser for\r\n",
      "                                                              django orm.\r\n",
      "peewee-rest-query (0.1.0)                                   - A rest query\r\n",
      "                                                              request args\r\n",
      "                                                              parser for\r\n",
      "                                                              peewee orm.\r\n",
      "django-query-exchange (0.5)                                 - Django\r\n",
      "                                                              application for\r\n",
      "                                                              handling GET\r\n",
      "                                                              query params for\r\n",
      "                                                              url creation\r\n",
      "django-query-execfile (0.6)                                 - A Django module\r\n",
      "                                                              for execute\r\n",
      "                                                              custom sql query\r\n",
      "                                                              in a .sql file\r\n",
      "invenio-query-parser (0.6.0)                                - Search query\r\n",
      "                                                              parser\r\n",
      "                                                              supporting\r\n",
      "                                                              Invenio and\r\n",
      "                                                              SPIRES search\r\n",
      "                                                              syntax.\r\n",
      "valve-range-query (1.0.4)                                   - Python library\r\n",
      "                                                              for Query of\r\n",
      "                                                              Valve Servers\r\n",
      "                                                              over a range of\r\n",
      "                                                              IPs\r\n",
      "oracle-db-query (1.0.0)                                     - Execute an\r\n",
      "                                                              Oracle SQL query\r\n",
      "                                                              and return\r\n",
      "                                                              result as Pandas\r\n",
      "                                                              data frame\r\n",
      "django-query-builder-pebble (0.9.0)                         - Build complex\r\n",
      "                                                              nested queries\r\n",
      "django-query-parameters (0.2.3)                             - Django\r\n",
      "                                                              templatetags to\r\n",
      "                                                              simplify\r\n",
      "                                                              creating,\r\n",
      "                                                              updating, and\r\n",
      "                                                              removing query\r\n",
      "                                                              parameters from\r\n",
      "                                                              querystring\r\n",
      "django-sub-query (0.1)                                      - Django app which\r\n",
      "                                                              uses SQL sub-\r\n",
      "                                                              queries to solve\r\n",
      "                                                              some ORM\r\n",
      "                                                              limitations\r\n",
      "django-rest-query-params-filter (1.3.3)                     - Allow your API\r\n",
      "                                                              consumers to\r\n",
      "                                                              make queries\r\n",
      "                                                              through query\r\n",
      "                                                              parameters.\r\n",
      "django-test-query-counter (0.1.0)                           - A Django Toolkit\r\n",
      "                                                              for controlling\r\n",
      "                                                              Query count when\r\n",
      "                                                              testing\r\n",
      "blitzjs-query (0.0.5)                                       - HTTP/Socket.io\r\n",
      "                                                              adapter for the\r\n",
      "                                                              blitz.js\r\n",
      "                                                              framework\r\n",
      "query-cli (1.0)                                             - This is a\r\n",
      "                                                              simple, yet\r\n",
      "                                                              powerful command\r\n",
      "                                                              line translator\r\n",
      "                                                              with baidu\r\n",
      "                                                              translate\r\n",
      "query-collections (0.0.1.3a4)                               - A set of classes\r\n",
      "                                                              built for easier\r\n",
      "                                                              management of\r\n",
      "                                                              Python maps and\r\n",
      "                                                              lists\r\n",
      "query-understanding (1.0.3)                                 - Universal\r\n",
      "                                                              encoding\r\n",
      "                                                              detector\r\n",
      "wmi-query (0.1.4)                                           - A simple way to\r\n",
      "                                                              convert wmi data\r\n",
      "                                                              from wmi class\r\n",
      "                                                              objects into\r\n",
      "                                                              defaultdict.\r\n",
      "django-query-exchange-fc (1.0)                              - Django\r\n",
      "                                                              application for\r\n",
      "                                                              handling GET\r\n",
      "                                                              query params for\r\n",
      "                                                              url creation\r\n",
      "djangorestframework-serializer-query-optimizations (0.1.0)  - Adds the\r\n",
      "                                                              possibility to\r\n",
      "                                                              do `select_relat\r\n",
      "                                                              ed()` and `prefe\r\n",
      "                                                              tch_related()`\r\n",
      "                                                              queries on\r\n",
      "                                                              querysets\r\n",
      "                                                              provided to\r\n",
      "                                                              Django REST\r\n",
      "                                                              Framework (DRF)\r\n",
      "                                                              model\r\n",
      "                                                              serializers.\r\n",
      "arcgis-rest-query (0.14)                                    - A tool to\r\n",
      "                                                              download a layer\r\n",
      "                                                              from an ArcGIS\r\n",
      "                                                              web service as\r\n",
      "                                                              GeoJSON\r\n",
      "blitz-js-query (0.1.3)                                      - HTTP/Socket.io\r\n",
      "                                                              adapter for the\r\n",
      "                                                              blitz.js\r\n",
      "                                                              framework\r\n",
      "django-prepared-query (0.2.0)                               - Prepared\r\n",
      "                                                              statements\r\n",
      "                                                              support for\r\n",
      "                                                              Django\r\n",
      "django-query-tracer (0.1.8)                                 - A simplified\r\n",
      "                                                              version of\r\n",
      "                                                              django-devserver\r\n",
      "                                                              limited to SQL\r\n",
      "                                                              tracing and Ajax\r\n",
      "                                                              dump.\r\n",
      "google-image-query-optimizer (0.1)                          - UNKNOWN\r\n",
      "esqb (0.1.1)                                                - A Query Builder\r\n",
      "                                                              to build queries\r\n",
      "                                                              specially suited\r\n",
      "                                                              for\r\n",
      "                                                              ElasticSearch\r\n",
      "                                                              queries\r\n",
      "drae (0.2.0)                                                - Query the DRAE\r\n",
      "djmq (0.0.1)                                                - Convert a\r\n",
      "                                                              MongoDB-style\r\n",
      "                                                              query into a\r\n",
      "                                                              Django query.\r\n",
      "graphql-compiler (1.5.0)                                    - Turn complex\r\n",
      "                                                              GraphQL queries\r\n",
      "                                                              into optimized\r\n",
      "                                                              database\r\n",
      "                                                              queries.\r\n",
      "luqum (0.7.2)                                               - A Lucene query\r\n",
      "                                                              parser\r\n",
      "                                                              generating\r\n",
      "                                                              ElasticSearch\r\n",
      "                                                              queries and more\r\n",
      "                                                              !\r\n",
      "psqlparse (0.2.5)                                           - Parse SQL\r\n",
      "                                                              queries using\r\n",
      "                                                              the PostgreSQL\r\n",
      "                                                              query parser\r\n",
      "sqlalchemy-querybuilder (0.1.2)                             - Build sqlalchemy\r\n",
      "                                                              queries from\r\n",
      "                                                              jQuery-Query\r\n",
      "                                                              json\r\n",
      "asqc (0.1.7)                                                - A SPARQL Query\r\n",
      "                                                              Client\r\n",
      "cQuery (0.2.1)                                              - Decentralised\r\n",
      "                                                              content queries\r\n",
      "dictcc (0.1)                                                - Query dict.cc\r\n",
      "                                                              dictionaries.\r\n",
      "django-queryinspect (1.0.0)                                 - Django Query\r\n",
      "                                                              Inspector\r\n",
      "dnsq (1.1.6)                                                - DNS Query Tool\r\n",
      "dql (0.5.26)                                                - DynamoDB Query\r\n",
      "                                                              Language\r\n",
      "easytwo (0.2.0)                                             - Easy EC2\r\n",
      "                                                              Queries.\r\n",
      "efilter (1!1.5.1)                                           - EFILTER query\r\n",
      "                                                              language\r\n",
      "elastic-queries (0.1.0)                                     - Composable\r\n",
      "                                                              queries for\r\n",
      "                                                              Elasticsearch\r\n",
      "gitql (1.0.5)                                               - A git query\r\n",
      "                                                              language\r\n",
      "inquiry (0.0.3)                                             - psql query\r\n",
      "                                                              generator\r\n",
      "libgraphite (0.1.3dev)                                      - Graphite\r\n",
      "                                                              querying library\r\n",
      "maim (0.1)                                                  - MySQL querying\r\n",
      "                                                              tools\r\n",
      "mongoesque (0.0)                                            - Mongodb\r\n",
      "                                                              Expressions and\r\n",
      "                                                              Queries.\r\n",
      "mqlparser (0.1)                                             - Parser for MQL\r\n",
      "                                                              queries\r\n",
      "mutt-addressbook (1.1.0)                                    - An addressbook\r\n",
      "                                                              query for mutt\r\n",
      "newt.qbe (0.1.1)                                            - Newt Query by\r\n",
      "                                                              Example\r\n",
      "ooquery (0.14.0)                                            - OpenObject Query\r\n",
      "                                                              Parser\r\n",
      "proximitypyhash (0.2.1)                                     - Pygeohash for\r\n",
      "                                                              proximity\r\n",
      "                                                              queries\r\n",
      "pub_requests (0.1.3)                                        - Utils for\r\n",
      "                                                              querying ME2_PUB\r\n",
      "py4hdfs (0.0.1)                                             - Fast Queries to\r\n",
      "                                                              HDFS\r\n",
      "PyCTD (0.5.9)                                               - Importing and\r\n",
      "                                                              querying CTD\r\n",
      "PyUniProt (0.0.10)                                          - Importing and\r\n",
      "                                                              querying UniProt\r\n",
      "QMS (0.5.1dev1)                                             - Query Made\r\n",
      "                                                              Simple\r\n",
      "qrep (0.1.2)                                                - Interactive\r\n",
      "                                                              query-replace\r\n",
      "QueryVin (0.0.2)                                            - query vin\r\n",
      "                                                              information\r\n",
      "rekall-efilter (1.6.0)                                      - EFILTER query\r\n",
      "                                                              language\r\n",
      "signalsdb (0.1.2)                                           - Query Unix\r\n",
      "                                                              signals\r\n",
      "sqlquery (1.1.0)                                            - SQL query\r\n",
      "                                                              translation.\r\n",
      "vortaro (0.3.1)                                             - Query bilingual\r\n",
      "                                                              dictionaries.\r\n",
      "csquery (0.1.4)                                             - A simple query\r\n",
      "                                                              builder for\r\n",
      "                                                              Amazon\r\n",
      "                                                              Cloudsearch\r\n",
      "                                                              structured query\r\n",
      "                                                              parser.\r\n",
      "django-conceptq (0.1.0)                                     - Tiny query\r\n",
      "                                                              wrapper for\r\n",
      "                                                              composable,\r\n",
      "                                                              cross-relation\r\n",
      "                                                              complex queries.\r\n",
      "json-traverse (0.4)                                         - Query complex\r\n",
      "                                                              JSON structures\r\n",
      "                                                              using a simple\r\n",
      "                                                              query syntax.\r\n",
      "soql (1.0.1)                                                - Models and query\r\n",
      "                                                              generator for\r\n",
      "                                                              Salesforce\r\n",
      "                                                              Object Query\r\n",
      "                                                              Language (SOQL)\r\n",
      "dataql (0.1.4)                                              - ``dataql`` is\r\n",
      "                                                              for \"Data Query\r\n",
      "                                                              Language\". It\r\n",
      "                                                              allows to query\r\n",
      "                                                              data in a simple\r\n",
      "                                                              way.\r\n",
      "sql_metadata (1.1.2)                                        - Uses tokenized\r\n",
      "                                                              query returned\r\n",
      "                                                              by python-\r\n",
      "                                                              sqlparse and\r\n",
      "                                                              generates query\r\n",
      "                                                              metadata\r\n",
      "a2x (0.0.3)                                                 - Valve Server\r\n",
      "                                                              Queries\r\n",
      "                                                              (developing)\r\n",
      "adsquery (0.1.1)                                            - Query the ADS\r\n",
      "                                                              using python\r\n",
      "apiarist (0.2.0)                                            - Python Hive\r\n",
      "                                                              query framework\r\n",
      "aplist (0.1.dev6)                                           - Airport List\r\n",
      "                                                              Query module\r\n",
      "aq (0.1.1)                                                  - Query AWS\r\n",
      "                                                              resources with\r\n",
      "                                                              SQL\r\n",
      "bquery (0.2.10)                                             - A query and\r\n",
      "                                                              aggregation\r\n",
      "                                                              framework for\r\n",
      "                                                              Bcolz\r\n",
      "breezeblocks (0.3.0)                                        - A lightweight\r\n",
      "                                                              SQL Querying\r\n",
      "                                                              package.\r\n"
     ]
    },
    {
     "name": "stdout",
     "output_type": "stream",
     "text": [
      "\u001b[33mYou are using pip version 9.0.3, however version 10.0.1 is available.\r\n",
      "You should consider upgrading via the 'pip install --upgrade pip' command.\u001b[0m\r\n"
     ]
    }
   ],
   "source": [
    "!pip3 search \"query\""
   ]
  },
  {
   "cell_type": "markdown",
   "metadata": {},
   "source": [
    "To get info about an installed package, including its location and files:\n",
    "\n",
    "```\n",
    "pip3 show <package-name>\n",
    "```"
   ]
  },
  {
   "cell_type": "code",
   "execution_count": 33,
   "metadata": {},
   "outputs": [
    {
     "name": "stdout",
     "output_type": "stream",
     "text": [
      "Name: pandas\n",
      "Version: 0.22.0\n",
      "Summary: Powerful data structures for data analysis, time series,and statistics\n",
      "Home-page: http://pandas.pydata.org\n",
      "Author: The PyData Development Team\n",
      "Author-email: pydata@googlegroups.com\n",
      "License: BSD\n",
      "Location: /usr/local/lib/python3.5/dist-packages\n",
      "Requires: numpy, python-dateutil, pytz\n",
      "\u001b[33mYou are using pip version 9.0.3, however version 10.0.1 is available.\n",
      "You should consider upgrading via the 'pip install --upgrade pip' command.\u001b[0m\n"
     ]
    }
   ],
   "source": [
    "!pip3 show pandas"
   ]
  },
  {
   "cell_type": "code",
   "execution_count": null,
   "metadata": {
    "collapsed": true
   },
   "outputs": [],
   "source": []
  }
 ],
 "metadata": {
  "kernelspec": {
   "display_name": "Local PySpark (Python-3.5 / Spark-2.1.0 )",
   "language": "python",
   "name": "py3spark_local"
  },
  "language_info": {
   "codemirror_mode": {
    "name": "ipython",
    "version": 3
   },
   "file_extension": ".py",
   "mimetype": "text/x-python",
   "name": "python",
   "nbconvert_exporter": "python",
   "pygments_lexer": "ipython3",
   "version": "3.5.2"
  }
 },
 "nbformat": 4,
 "nbformat_minor": 2
}
