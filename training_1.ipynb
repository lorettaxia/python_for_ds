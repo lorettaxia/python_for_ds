{
 "cells": [
  {
   "cell_type": "markdown",
   "metadata": {},
   "source": [
    "## Kirill Bobrov\n",
    "\n",
    "\n",
    "<kirill_bobrov@epam.com>\n",
    "\n",
    "@luminousmen - github"
   ]
  },
  {
   "cell_type": "markdown",
   "metadata": {},
   "source": [
    "# Intro to Jupyter Notebook\n",
    "\n",
    "\n",
    "**Agenda:**\n",
    "\n",
    "    * jupyter\n",
    "    * jupyter magic"
   ]
  },
  {
   "cell_type": "markdown",
   "metadata": {},
   "source": [
    "http://jupyter.org/\n",
    "\n",
    "https://www.anaconda.com/download/"
   ]
  },
  {
   "cell_type": "markdown",
   "metadata": {},
   "source": [
    "Jupyter Notebook is a web application that allows you to create and share documents that contain:\n",
    "\n",
    "- live code (e.g. Python code)\n",
    "- visualizations\n",
    "- explanatory text (written in markdown syntax)"
   ]
  },
  {
   "cell_type": "markdown",
   "metadata": {},
   "source": [
    "The notebook itself consists of cells. A first empty cell is already available after having created the new notebook.\n",
    "\n",
    "This cell is of type “Code” and you can start typing in Python code directly. Executing code in this cell can be done by either clicking on the run cell button or hitting Shift + Return keys\n",
    "\n",
    "The resulting output becomes visible right underneath the cell.\n",
    "\n",
    "You can change the cell type from Code to Markdown to include explanatory text in your notebook. To change the type you can use the dropdown input control\n",
    "\n",
    "Once switched the type to Markdown you can start typing in markdown code\n",
    "\n",
    "After having entered the markdown code you can compile the cell by hitting Shift + Return once again. The markdown editor cell is then replaced with the output\n",
    "\n",
    "To get an overview of functions which are available in command and in edit mode you can open up the overview of key shortcuts by using menu entry Help → Keyboard Shortcuts\n",
    "\n",
    "Another cool function of Jupyter Notebook is the ability to create checkpoint. By creating a checkpoint you’re storing the current state of the notebook so that you can later on go back to this checkpoint and revert changes which have been made to the notebook in the meantime.\n",
    "\n",
    "Jupyter Notebook gives you several options to export your notebook. Those options can be found in menu File → Download as"
   ]
  },
  {
   "cell_type": "markdown",
   "metadata": {},
   "source": [
    "display list of magic methods"
   ]
  },
  {
   "cell_type": "code",
   "execution_count": 1,
   "metadata": {},
   "outputs": [
    {
     "data": {
      "application/json": {
       "cell": {
        "!": "OSMagics",
        "HTML": "Other",
        "SVG": "Other",
        "bash": "Other",
        "capture": "ExecutionMagics",
        "debug": "ExecutionMagics",
        "file": "Other",
        "html": "DisplayMagics",
        "javascript": "DisplayMagics",
        "js": "DisplayMagics",
        "latex": "DisplayMagics",
        "markdown": "DisplayMagics",
        "perl": "Other",
        "prun": "ExecutionMagics",
        "pypy": "Other",
        "python": "Other",
        "python2": "Other",
        "python3": "Other",
        "ruby": "Other",
        "script": "ScriptMagics",
        "sh": "Other",
        "svg": "DisplayMagics",
        "sx": "OSMagics",
        "system": "OSMagics",
        "time": "ExecutionMagics",
        "timeit": "ExecutionMagics",
        "writefile": "OSMagics"
       },
       "line": {
        "alias": "OSMagics",
        "alias_magic": "BasicMagics",
        "autocall": "AutoMagics",
        "automagic": "AutoMagics",
        "autosave": "KernelMagics",
        "bookmark": "OSMagics",
        "cat": "Other",
        "cd": "OSMagics",
        "clear": "KernelMagics",
        "colors": "BasicMagics",
        "config": "ConfigMagics",
        "connect_info": "KernelMagics",
        "cp": "Other",
        "debug": "ExecutionMagics",
        "dhist": "OSMagics",
        "dirs": "OSMagics",
        "doctest_mode": "BasicMagics",
        "ed": "Other",
        "edit": "KernelMagics",
        "env": "OSMagics",
        "gui": "BasicMagics",
        "hist": "Other",
        "history": "HistoryMagics",
        "killbgscripts": "ScriptMagics",
        "ldir": "Other",
        "less": "KernelMagics",
        "lf": "Other",
        "lk": "Other",
        "ll": "Other",
        "load": "CodeMagics",
        "load_ext": "ExtensionMagics",
        "loadpy": "CodeMagics",
        "logoff": "LoggingMagics",
        "logon": "LoggingMagics",
        "logstart": "LoggingMagics",
        "logstate": "LoggingMagics",
        "logstop": "LoggingMagics",
        "ls": "Other",
        "lsmagic": "BasicMagics",
        "lx": "Other",
        "macro": "ExecutionMagics",
        "magic": "BasicMagics",
        "man": "KernelMagics",
        "matplotlib": "PylabMagics",
        "mkdir": "Other",
        "more": "KernelMagics",
        "mv": "Other",
        "notebook": "BasicMagics",
        "page": "BasicMagics",
        "pastebin": "CodeMagics",
        "pdb": "ExecutionMagics",
        "pdef": "NamespaceMagics",
        "pdoc": "NamespaceMagics",
        "pfile": "NamespaceMagics",
        "pinfo": "NamespaceMagics",
        "pinfo2": "NamespaceMagics",
        "pip": "BasicMagics",
        "popd": "OSMagics",
        "pprint": "BasicMagics",
        "precision": "BasicMagics",
        "profile": "BasicMagics",
        "prun": "ExecutionMagics",
        "psearch": "NamespaceMagics",
        "psource": "NamespaceMagics",
        "pushd": "OSMagics",
        "pwd": "OSMagics",
        "pycat": "OSMagics",
        "pylab": "PylabMagics",
        "qtconsole": "KernelMagics",
        "quickref": "BasicMagics",
        "recall": "HistoryMagics",
        "rehashx": "OSMagics",
        "reload_ext": "ExtensionMagics",
        "rep": "Other",
        "rerun": "HistoryMagics",
        "reset": "NamespaceMagics",
        "reset_selective": "NamespaceMagics",
        "rm": "Other",
        "rmdir": "Other",
        "run": "ExecutionMagics",
        "save": "CodeMagics",
        "sc": "OSMagics",
        "set_env": "OSMagics",
        "store": "StoreMagics",
        "sx": "OSMagics",
        "system": "OSMagics",
        "tb": "ExecutionMagics",
        "time": "ExecutionMagics",
        "timeit": "ExecutionMagics",
        "unalias": "OSMagics",
        "unload_ext": "ExtensionMagics",
        "who": "NamespaceMagics",
        "who_ls": "NamespaceMagics",
        "whos": "NamespaceMagics",
        "xdel": "NamespaceMagics",
        "xmode": "BasicMagics"
       }
      },
      "text/plain": [
       "Available line magics:\n",
       "%alias  %alias_magic  %autocall  %automagic  %autosave  %bookmark  %cat  %cd  %clear  %colors  %config  %connect_info  %cp  %debug  %dhist  %dirs  %doctest_mode  %ed  %edit  %env  %gui  %hist  %history  %killbgscripts  %ldir  %less  %lf  %lk  %ll  %load  %load_ext  %loadpy  %logoff  %logon  %logstart  %logstate  %logstop  %ls  %lsmagic  %lx  %macro  %magic  %man  %matplotlib  %mkdir  %more  %mv  %notebook  %page  %pastebin  %pdb  %pdef  %pdoc  %pfile  %pinfo  %pinfo2  %popd  %pprint  %precision  %profile  %prun  %psearch  %psource  %pushd  %pwd  %pycat  %pylab  %qtconsole  %quickref  %recall  %rehashx  %reload_ext  %rep  %rerun  %reset  %reset_selective  %rm  %rmdir  %run  %save  %sc  %set_env  %store  %sx  %system  %tb  %time  %timeit  %unalias  %unload_ext  %who  %who_ls  %whos  %xdel  %xmode\n",
       "\n",
       "Available cell magics:\n",
       "%%!  %%HTML  %%SVG  %%bash  %%capture  %%debug  %%file  %%html  %%javascript  %%js  %%latex  %%markdown  %%perl  %%prun  %%pypy  %%python  %%python2  %%python3  %%ruby  %%script  %%sh  %%svg  %%sx  %%system  %%time  %%timeit  %%writefile\n",
       "\n",
       "Automagic is ON, % prefix IS NOT needed for line magics."
      ]
     },
     "execution_count": 1,
     "metadata": {},
     "output_type": "execute_result"
    }
   ],
   "source": [
    "%lsmagic"
   ]
  },
  {
   "cell_type": "markdown",
   "metadata": {},
   "source": [
    "You can control environment variables for you notebook without restarting you jupyter-server. Some libraries (theano for example) using environment variables for controlling bahavior, and `%env` — is the easiest way to do it."
   ]
  },
  {
   "cell_type": "code",
   "execution_count": 2,
   "metadata": {},
   "outputs": [
    {
     "data": {
      "text/plain": [
       "{'CLICOLOR': '1',\n",
       " 'COLORTERM': 'xfce4-terminal',\n",
       " 'DBUS_SESSION_BUS_ADDRESS': 'unix:abstract=/tmp/dbus-7wxemjE4Ip,guid=b1d370d6e870f8031cca9c635adf237b',\n",
       " 'DEFAULTS_PATH': '/usr/share/gconf/i3.default.path',\n",
       " 'DESKTOP_SESSION': 'i3',\n",
       " 'DISPLAY': ':0.0',\n",
       " 'GDMSESSION': 'i3',\n",
       " 'GDM_LANG': 'en_US',\n",
       " 'GIT_PAGER': 'cat',\n",
       " 'GOBIN': '/home/kirill/.go/bin',\n",
       " 'GOPATH': '/home/kir/.go',\n",
       " 'GOROOT': '/usr/local/go',\n",
       " 'HOME': '/home/kirill',\n",
       " 'JPY_PARENT_PID': '9462',\n",
       " 'LANG': 'en_US.UTF-8',\n",
       " 'LANGUAGE': 'en_US',\n",
       " 'LC_ADDRESS': 'en_US.UTF-8',\n",
       " 'LC_ALL': 'C',\n",
       " 'LC_CTYPE': 'UTF-8',\n",
       " 'LC_IDENTIFICATION': 'en_US.UTF-8',\n",
       " 'LC_MEASUREMENT': 'en_US.UTF-8',\n",
       " 'LC_MONETARY': 'en_US.UTF-8',\n",
       " 'LC_NAME': 'en_US.UTF-8',\n",
       " 'LC_NUMERIC': 'en_US.UTF-8',\n",
       " 'LC_PAPER': 'en_US.UTF-8',\n",
       " 'LC_TELEPHONE': 'en_US.UTF-8',\n",
       " 'LC_TIME': 'en_US.UTF-8',\n",
       " 'LESSCLOSE': '/usr/bin/lesspipe %s %s',\n",
       " 'LESSOPEN': '| /usr/bin/lesspipe %s',\n",
       " 'LOGNAME': 'kirill',\n",
       " 'LS_COLORS': 'rs=0:di=01;34:ln=01;36:mh=00:pi=40;33:so=01;35:do=01;35:bd=40;33;01:cd=40;33;01:or=40;31;01:mi=00:su=37;41:sg=30;43:ca=30;41:tw=30;42:ow=34;42:st=37;44:ex=01;32:*.tar=01;31:*.tgz=01;31:*.arc=01;31:*.arj=01;31:*.taz=01;31:*.lha=01;31:*.lz4=01;31:*.lzh=01;31:*.lzma=01;31:*.tlz=01;31:*.txz=01;31:*.tzo=01;31:*.t7z=01;31:*.zip=01;31:*.z=01;31:*.Z=01;31:*.dz=01;31:*.gz=01;31:*.lrz=01;31:*.lz=01;31:*.lzo=01;31:*.xz=01;31:*.bz2=01;31:*.bz=01;31:*.tbz=01;31:*.tbz2=01;31:*.tz=01;31:*.deb=01;31:*.rpm=01;31:*.jar=01;31:*.war=01;31:*.ear=01;31:*.sar=01;31:*.rar=01;31:*.alz=01;31:*.ace=01;31:*.zoo=01;31:*.cpio=01;31:*.7z=01;31:*.rz=01;31:*.cab=01;31:*.jpg=01;35:*.jpeg=01;35:*.gif=01;35:*.bmp=01;35:*.pbm=01;35:*.pgm=01;35:*.ppm=01;35:*.tga=01;35:*.xbm=01;35:*.xpm=01;35:*.tif=01;35:*.tiff=01;35:*.png=01;35:*.svg=01;35:*.svgz=01;35:*.mng=01;35:*.pcx=01;35:*.mov=01;35:*.mpg=01;35:*.mpeg=01;35:*.m2v=01;35:*.mkv=01;35:*.webm=01;35:*.ogm=01;35:*.mp4=01;35:*.m4v=01;35:*.mp4v=01;35:*.vob=01;35:*.qt=01;35:*.nuv=01;35:*.wmv=01;35:*.asf=01;35:*.rm=01;35:*.rmvb=01;35:*.flc=01;35:*.avi=01;35:*.fli=01;35:*.flv=01;35:*.gl=01;35:*.dl=01;35:*.xcf=01;35:*.xwd=01;35:*.yuv=01;35:*.cgm=01;35:*.emf=01;35:*.ogv=01;35:*.ogx=01;35:*.aac=00;36:*.au=00;36:*.flac=00;36:*.m4a=00;36:*.mid=00;36:*.midi=00;36:*.mka=00;36:*.mp3=00;36:*.mpc=00;36:*.ogg=00;36:*.ra=00;36:*.wav=00;36:*.oga=00;36:*.opus=00;36:*.spx=00;36:*.xspf=00;36:',\n",
       " 'MANDATORY_PATH': '/usr/share/gconf/i3.mandatory.path',\n",
       " 'MPLBACKEND': 'module://ipykernel.pylab.backend_inline',\n",
       " 'OLDPWD': '/home/kirill/Projects/python',\n",
       " 'PAGER': 'cat',\n",
       " 'PAPERSIZE': 'letter',\n",
       " 'PATH': '/home/kirill/.local/bin:/usr/local/go/bin:/home/kirill/bin:/home/kirill/.local/bin:/usr/local/sbin:/usr/local/bin:/usr/sbin:/usr/bin:/sbin:/bin:/usr/games:/usr/local/games:/snap/bin:/opt/mssql-tools/bin:/opt/mssql-tools/bin',\n",
       " 'PROJECT_HOME': '/home/kirill/Devel',\n",
       " 'PS1': '\\\\[\\\\033[1;32m\\\\]\\\\u@\\\\h\\\\[\\\\033[0m\\\\] \\\\[\\\\033[32m\\\\]\\\\w\\\\[\\\\033[33m\\\\]$(parse_git_branch)\\\\[\\\\033[0m\\\\]$ ',\n",
       " 'PWD': '/home/kirill/Projects/python/python_for_ds',\n",
       " 'PYTHONIOENCODING': 'UTF-8',\n",
       " 'QT_ACCESSIBILITY': '1',\n",
       " 'QT_LINUX_ACCESSIBILITY_ALWAYS_ON': '1',\n",
       " 'SHELL': '/bin/bash',\n",
       " 'SHLVL': '1',\n",
       " 'SSH_AGENT_PID': '2227',\n",
       " 'SSH_AUTH_SOCK': '/tmp/ssh-gdzjA68b18cf/agent.2169',\n",
       " 'TERM': 'xterm-color',\n",
       " 'USER': 'kirill',\n",
       " 'VIRTUALENVWRAPPER_HOOK_DIR': '/home/kirill/.virtualenvs',\n",
       " 'VIRTUALENVWRAPPER_PROJECT_FILENAME': '.project',\n",
       " 'VIRTUALENVWRAPPER_SCRIPT': '/usr/local/bin/virtualenvwrapper.sh',\n",
       " 'VIRTUALENVWRAPPER_WORKON_CD': '1',\n",
       " 'WINDOWID': '38187244',\n",
       " 'WORKON_HOME': '/home/kirill/.virtualenvs',\n",
       " 'XAUTHORITY': '/home/kirill/.Xauthority',\n",
       " 'XDG_CONFIG_DIRS': '/etc/xdg/xdg-i3:/etc/xdg',\n",
       " 'XDG_CURRENT_DESKTOP': 'i3',\n",
       " 'XDG_DATA_DIRS': '/usr/share/i3:/usr/local/share:/usr/share:/var/lib/snapd/desktop:/var/lib/snapd/desktop',\n",
       " 'XDG_GREETER_DATA_DIR': '/var/lib/lightdm-data/kirill',\n",
       " 'XDG_RUNTIME_DIR': '/run/user/1000',\n",
       " 'XDG_SEAT': 'seat0',\n",
       " 'XDG_SEAT_PATH': '/org/freedesktop/DisplayManager/Seat0',\n",
       " 'XDG_SESSION_DESKTOP': 'i3',\n",
       " 'XDG_SESSION_ID': 'c2',\n",
       " 'XDG_SESSION_PATH': '/org/freedesktop/DisplayManager/Session0',\n",
       " 'XDG_SESSION_TYPE': 'x11',\n",
       " 'XDG_VTNR': '7',\n",
       " '_': '/home/kirill/.local/bin/jupyter'}"
      ]
     },
     "execution_count": 2,
     "metadata": {},
     "output_type": "execute_result"
    }
   ],
   "source": [
    "#%env - without arguments lists environmental variables\n",
    "%env"
   ]
  },
  {
   "cell_type": "code",
   "execution_count": 3,
   "metadata": {},
   "outputs": [
    {
     "name": "stdout",
     "output_type": "stream",
     "text": [
      "env: OMP_NUM_THREADS=4\n"
     ]
    }
   ],
   "source": [
    "%env OMP_NUM_THREADS=4"
   ]
  },
  {
   "cell_type": "markdown",
   "metadata": {},
   "source": [
    "Executing shell commands"
   ]
  },
  {
   "cell_type": "code",
   "execution_count": 4,
   "metadata": {},
   "outputs": [
    {
     "name": "stdout",
     "output_type": "stream",
     "text": [
      "Filesystem      Size  Used Avail Use% Mounted on\r\n",
      "udev            7.8G     0  7.8G   0% /dev\r\n",
      "tmpfs           1.6G   34M  1.6G   3% /run\r\n",
      "/dev/sda2       901G  207G  649G  25% /\r\n",
      "tmpfs           7.8G  269M  7.5G   4% /dev/shm\r\n",
      "tmpfs           5.0M  4.0K  5.0M   1% /run/lock\r\n",
      "tmpfs           7.8G     0  7.8G   0% /sys/fs/cgroup\r\n",
      "/dev/sda1       511M  3.5M  508M   1% /boot/efi\r\n",
      "tmpfs           1.6G   92K  1.6G   1% /run/user/1000\r\n"
     ]
    }
   ],
   "source": [
    "!df -h"
   ]
  },
  {
   "cell_type": "code",
   "execution_count": 5,
   "metadata": {},
   "outputs": [
    {
     "name": "stdout",
     "output_type": "stream",
     "text": [
      "Overwriting pythoncode.py\n"
     ]
    }
   ],
   "source": [
    "%%writefile pythoncode.py\n",
    "\n",
    "import numpy\n",
    "def append_if_not_exists(arr, x):\n",
    "    if x not in arr:\n",
    "        arr.append(x)\n",
    "        \n",
    "def some_useless_slow_function():\n",
    "    arr = list()\n",
    "    for i in range(10000):\n",
    "        x = numpy.random.randint(0, 10000)\n",
    "        append_if_not_exists(arr, x)"
   ]
  },
  {
   "cell_type": "markdown",
   "metadata": {},
   "source": [
    "`%load` loads the code into jupyter cell directly. You can choose local file or from net."
   ]
  },
  {
   "cell_type": "code",
   "execution_count": 6,
   "metadata": {},
   "outputs": [],
   "source": [
    "# %load pythoncode.py\n",
    "\n",
    "import numpy\n",
    "def append_if_not_exists(arr, x):\n",
    "    if x not in arr:\n",
    "        arr.append(x)\n",
    "        \n",
    "def some_useless_slow_function():\n",
    "    arr = list()\n",
    "    for i in range(10000):\n",
    "        x = numpy.random.randint(0, 10000)\n",
    "        append_if_not_exists(arr, x)"
   ]
  },
  {
   "cell_type": "markdown",
   "metadata": {},
   "source": [
    "Profiling: `%prun`, `%lprun`, `%mprun`\n",
    "\n",
    "```\n",
    "# shows how much time program spent in each function\n",
    "%prun some_useless_slow_function()\n",
    "```"
   ]
  },
  {
   "cell_type": "markdown",
   "metadata": {},
   "source": [
    "# Formatting in jupiter"
   ]
  },
  {
   "cell_type": "markdown",
   "metadata": {},
   "source": [
    "# image\n",
    "![Fibonacci](https://www.mathsisfun.com/numbers/images/fibonacci.jpg)"
   ]
  },
  {
   "cell_type": "markdown",
   "metadata": {},
   "source": [
    "LaTeX equations:\n",
    "\n",
    "$$ var = \\frac{1}{N} [(x_1 - \\mu)^2 + (x_2 - \\mu)^2 + ... +(x_N - \\mu)^2] $$"
   ]
  },
  {
   "cell_type": "markdown",
   "metadata": {},
   "source": [
    "# Title\n",
    "\n",
    "Some words in here\n",
    "\n",
    "Normal text\n",
    "- list\n",
    "- list 2\n"
   ]
  },
  {
   "cell_type": "markdown",
   "metadata": {},
   "source": [
    "# Summary:\n",
    "\n",
    "- met with jupyter notebook tool\n",
    "\n",
    "We not covered:\n",
    "\n",
    "- installation process\n",
    "- create kernels\n",
    "- start jupyter server"
   ]
  }
 ],
 "metadata": {
  "kernelspec": {
   "display_name": "Python 3",
   "language": "python",
   "name": "python3"
  },
  "language_info": {
   "codemirror_mode": {
    "name": "ipython",
    "version": 3
   },
   "file_extension": ".py",
   "mimetype": "text/x-python",
   "name": "python",
   "nbconvert_exporter": "python",
   "pygments_lexer": "ipython3",
   "version": "3.5.2"
  }
 },
 "nbformat": 4,
 "nbformat_minor": 2
}
