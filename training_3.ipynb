{
 "cells": [
  {
   "cell_type": "markdown",
   "metadata": {},
   "source": [
    "# Dive into Python. Part II\n",
    "\n",
    "\n",
    "\n",
    "\n",
    "**Agenda:**\n",
    "\n",
    "    * OOP\n",
    "    * classes\n",
    "    * magic methods\n",
    "    * exceptions\n",
    "    * RAII, context managers"
   ]
  },
  {
   "cell_type": "markdown",
   "metadata": {},
   "source": [
    " # Object Oriented Programming \n",
    " \n",
    "In all the programs we wrote till now, we have designed our program around functions i.e. blocks of statements which manipulate data. This is called the procedure-oriented way of programming. There is another way of organizing your program which is to combine data and functionality and wrap it inside something called an object. This is called the object oriented programming paradigm. Most of the time you can use procedural programming, but when writing large programs or have a problem that is better suited to this method, you can use object oriented programming techniques.\n",
    "\n",
    "Classes and objects are the two main aspects of object oriented programming. A class creates a new type where objects are instances of the class. An analogy is that you can have variables of type int which translates to saying that variables that store integers are variables which are instances (objects) of the int class.\n",
    "\n",
    "Objects can store data using ordinary variables that belong to the object. Variables that belong to an object or class are referred to as fields. Objects can also have functionality by using functions that belong to a class. Such functions are called methods of the class. This terminology is important because it helps us to differentiate between functions and variables which are independent and those which belong to a class or object. Collectively, the fields and methods can be referred to as the attributes of that class.\n",
    "\n",
    "Fields are of two types - they can belong to each instance/object of the class or they can belong to the class itself. They are called instance variables and class variables respectively.\n",
    "\n",
    "A class is created using the class keyword. The fields and methods of the class are listed in an indented block.\n",
    "\n",
    "### 3 whales of OOP\n",
    "\n",
    "    * Encapsulation\n",
    "    * Inheritance\n",
    "    * Polymorphism"
   ]
  },
  {
   "cell_type": "code",
   "execution_count": 4,
   "metadata": {},
   "outputs": [
    {
     "name": "stdout",
     "output_type": "stream",
     "text": [
      "Called bar\n"
     ]
    }
   ],
   "source": [
    "class Foo:\n",
    "    def bar(self):  # <-- self\n",
    "        print('Called bar')\n",
    "        \n",
    "foo = Foo()\n",
    "foo.bar()"
   ]
  },
  {
   "cell_type": "markdown",
   "metadata": {},
   "source": [
    "Class methods have only one specific difference from ordinary functions - they must have an extra first name that has to be added to the beginning of the parameter list, but you do not give a value for this parameter when you call the method, Python will provide it. This particular variable refers to the object itself, and by convention, it is given the name self."
   ]
  },
  {
   "cell_type": "markdown",
   "metadata": {},
   "source": [
    "### Built-in functions we will be using:\n",
    "\n",
    "**dir(obj)** - prints all object methods. Method of introspection - allows you to see object internals at runtime."
   ]
  },
  {
   "cell_type": "code",
   "execution_count": 8,
   "metadata": {
    "scrolled": true
   },
   "outputs": [
    {
     "name": "stdout",
     "output_type": "stream",
     "text": [
      "1\n"
     ]
    }
   ],
   "source": [
    "class Foo:\n",
    "    x = 1  # <-- internal variable\n",
    "    def bar(self):\n",
    "        print(self.x)  # <-- using self\n",
    "        \n",
    "foo = Foo()\n",
    "foo.bar()"
   ]
  },
  {
   "cell_type": "code",
   "execution_count": 19,
   "metadata": {},
   "outputs": [
    {
     "data": {
      "text/plain": [
       "__main__.Foo"
      ]
     },
     "execution_count": 19,
     "metadata": {},
     "output_type": "execute_result"
    }
   ],
   "source": [
    "type(foo)"
   ]
  },
  {
   "cell_type": "code",
   "execution_count": 20,
   "metadata": {},
   "outputs": [
    {
     "data": {
      "text/plain": [
       "type"
      ]
     },
     "execution_count": 20,
     "metadata": {},
     "output_type": "execute_result"
    }
   ],
   "source": [
    "type(Foo)"
   ]
  },
  {
   "cell_type": "code",
   "execution_count": 9,
   "metadata": {},
   "outputs": [
    {
     "data": {
      "text/plain": [
       "['__class__',\n",
       " '__delattr__',\n",
       " '__dict__',\n",
       " '__dir__',\n",
       " '__doc__',\n",
       " '__eq__',\n",
       " '__format__',\n",
       " '__ge__',\n",
       " '__getattribute__',\n",
       " '__gt__',\n",
       " '__hash__',\n",
       " '__init__',\n",
       " '__le__',\n",
       " '__lt__',\n",
       " '__module__',\n",
       " '__ne__',\n",
       " '__new__',\n",
       " '__reduce__',\n",
       " '__reduce_ex__',\n",
       " '__repr__',\n",
       " '__setattr__',\n",
       " '__sizeof__',\n",
       " '__str__',\n",
       " '__subclasshook__',\n",
       " '__weakref__',\n",
       " 'bar',\n",
       " 'x']"
      ]
     },
     "execution_count": 9,
     "metadata": {},
     "output_type": "execute_result"
    }
   ],
   "source": [
    "dir(foo)"
   ]
  },
  {
   "cell_type": "code",
   "execution_count": 10,
   "metadata": {},
   "outputs": [
    {
     "data": {
      "text/plain": [
       "12"
      ]
     },
     "execution_count": 10,
     "metadata": {},
     "output_type": "execute_result"
    }
   ],
   "source": [
    "class Foo:\n",
    "    def __init__(self):  # <-- constructor of the class instance\n",
    "        self.bar = 12\n",
    "\n",
    "foo = Foo()\n",
    "foo.bar"
   ]
  },
  {
   "cell_type": "markdown",
   "metadata": {},
   "source": [
    "The \\__init\\__ method is run as soon as an object of a class is instantiated (i.e. created). The method is useful to do any initialization (i.e. passing initial values to your object) you want to do with your object. Notice the double underscores both at the beginning and at the end of the name."
   ]
  },
  {
   "cell_type": "markdown",
   "metadata": {},
   "source": [
    "## Class And Object Variables \n",
    "\n",
    "There are two types of fields - class variables and object variables which are classified depending on whether the class or the object owns the variables respectively.\n",
    "\n",
    "Class variables are shared - they can be accessed by all instances of that class. There is only one copy of the class variable and when any one object makes a change to a class variable, that change will be seen by all the other instances.\n",
    "\n",
    "Object variables are owned by each individual object/instance of the class. In this case, each object has its own copy of the field i.e. they are not shared and are not related in any way to the field by the same name in a different instance. "
   ]
  },
  {
   "cell_type": "code",
   "execution_count": 16,
   "metadata": {},
   "outputs": [
    {
     "name": "stdout",
     "output_type": "stream",
     "text": [
      "Initializing Ford\n",
      "Initializing Mitsubishi\n",
      "Initializing Suzuki\n",
      "Ford is being destroyed!\n",
      "There are still 2 cars working.\n",
      "Mitsubishi is being destroyed!\n",
      "There are still 1 cars working.\n",
      "Suzuki is being destroyed!\n",
      "Suzuki was the last one.\n"
     ]
    }
   ],
   "source": [
    "class Car:\n",
    "    working_cars = 0\n",
    "    \n",
    "    def __init__(self, name):\n",
    "        self.name = name\n",
    "        print(\"Initializing {}\".format(self.name))\n",
    "        Car.working_cars += 1\n",
    "        \n",
    "    def destroy(self):\n",
    "        Car.working_cars -= 1\n",
    "        print(\"{} is being destroyed!\".format(self.name))\n",
    "\n",
    "        if Car.working_cars == 0:\n",
    "            print(\"{} was the last one.\".format(self.name))\n",
    "        else:\n",
    "            print(\"There are still {:d} cars working.\".format(Car.working_cars))\n",
    "    \n",
    "car1 = Car('Ford')\n",
    "car2 = Car('Mitsubishi')\n",
    "car3 = Car('Suzuki')\n",
    "car1.destroy()\n",
    "car2.destroy()\n",
    "car3.destroy()"
   ]
  },
  {
   "cell_type": "markdown",
   "metadata": {},
   "source": [
    "This is a example helps demonstrate the nature of class and object variables. Here, `working_cars` belongs to the Car class and hence is a class variable. The `name` variable belongs to the object (it is assigned using self) and hence is an object variable."
   ]
  },
  {
   "cell_type": "markdown",
   "metadata": {},
   "source": [
    "## Encapsulation"
   ]
  },
  {
   "cell_type": "markdown",
   "metadata": {},
   "source": [
    "Under the encapsulation (encapsulation, which can be translated differently, but with the right associations, it is good to call the word \"wrapping\") understands the hiding of information about the internal state of the object, in which work with the object can be conducted only through its public (public) interface.\n",
    "\n",
    "The underline (\"\\_\") at the beginning of the attribute name is that it is not included in the public interface.\n",
    "\n",
    "Usually used single attention, which in coincidence does not have a special role, but as if says to the programmer: \"this method is only for internal use.\" Double underline works like setting that attribute is private. However, the attribute is still available, but under a different name"
   ]
  },
  {
   "cell_type": "code",
   "execution_count": 24,
   "metadata": {},
   "outputs": [
    {
     "ename": "AttributeError",
     "evalue": "'Foo' object has no attribute '__private'",
     "output_type": "error",
     "traceback": [
      "\u001b[0;31m---------------------------------------------------------------------------\u001b[0m",
      "\u001b[0;31mAttributeError\u001b[0m                            Traceback (most recent call last)",
      "\u001b[0;32m<ipython-input-24-1a8d9d543ec2>\u001b[0m in \u001b[0;36m<module>\u001b[0;34m()\u001b[0m\n\u001b[1;32m      5\u001b[0m \u001b[0mfoo\u001b[0m \u001b[0;34m=\u001b[0m \u001b[0mFoo\u001b[0m\u001b[0;34m(\u001b[0m\u001b[0;34m)\u001b[0m\u001b[0;34m\u001b[0m\u001b[0m\n\u001b[1;32m      6\u001b[0m \u001b[0mfoo\u001b[0m\u001b[0;34m.\u001b[0m\u001b[0m_protected\u001b[0m\u001b[0;34m\u001b[0m\u001b[0m\n\u001b[0;32m----> 7\u001b[0;31m \u001b[0mfoo\u001b[0m\u001b[0;34m.\u001b[0m\u001b[0m__private\u001b[0m  \u001b[0;31m# <-- it's private, you can't access it\u001b[0m\u001b[0;34m\u001b[0m\u001b[0m\n\u001b[0m",
      "\u001b[0;31mAttributeError\u001b[0m: 'Foo' object has no attribute '__private'"
     ]
    }
   ],
   "source": [
    "class Foo:\n",
    "    _protected = 1\n",
    "    __private = 2\n",
    "    \n",
    "foo = Foo()\n",
    "foo._protected\n",
    "foo.__private  # <-- it's private, you can't access it"
   ]
  },
  {
   "cell_type": "code",
   "execution_count": 26,
   "metadata": {},
   "outputs": [
    {
     "data": {
      "text/plain": [
       "['_Foo__private',\n",
       " '__class__',\n",
       " '__delattr__',\n",
       " '__dict__',\n",
       " '__dir__',\n",
       " '__doc__',\n",
       " '__eq__',\n",
       " '__format__',\n",
       " '__ge__',\n",
       " '__getattribute__',\n",
       " '__gt__',\n",
       " '__hash__',\n",
       " '__init__',\n",
       " '__le__',\n",
       " '__lt__',\n",
       " '__module__',\n",
       " '__ne__',\n",
       " '__new__',\n",
       " '__reduce__',\n",
       " '__reduce_ex__',\n",
       " '__repr__',\n",
       " '__setattr__',\n",
       " '__sizeof__',\n",
       " '__str__',\n",
       " '__subclasshook__',\n",
       " '__weakref__',\n",
       " '_protected']"
      ]
     },
     "execution_count": 26,
     "metadata": {},
     "output_type": "execute_result"
    }
   ],
   "source": [
    "dir(foo)"
   ]
  },
  {
   "cell_type": "code",
   "execution_count": 25,
   "metadata": {},
   "outputs": [
    {
     "data": {
      "text/plain": [
       "2"
      ]
     },
     "execution_count": 25,
     "metadata": {},
     "output_type": "execute_result"
    }
   ],
   "source": [
    "foo._Foo__private  # or you can"
   ]
  },
  {
   "cell_type": "markdown",
   "metadata": {},
   "source": [
    "Python is not support OOP as it is because of it."
   ]
  },
  {
   "cell_type": "markdown",
   "metadata": {},
   "source": [
    "## Inheritance"
   ]
  },
  {
   "cell_type": "markdown",
   "metadata": {},
   "source": [
    "One of the major benefits of object oriented programming is reuse of code and one of the ways this is achieved is through the inheritance mechanism. Inheritance can be best imagined as implementing a type and subtype relationship between classes."
   ]
  },
  {
   "cell_type": "markdown",
   "metadata": {},
   "source": [
    "### Built-in functions we will be using:\n",
    "\n",
    "**isinstance(object, classinfo)** - return true if the object argument is an instance of the classinfo argument, or of a (direct, indirect or virtual) subclass thereof.\n",
    "\n",
    "**issubclass(class, classinfo)** -  return true if class is a subclass (direct, indirect or virtual) of classinfo. "
   ]
  },
  {
   "cell_type": "code",
   "execution_count": 35,
   "metadata": {},
   "outputs": [
    {
     "name": "stdout",
     "output_type": "stream",
     "text": [
      "True\n",
      "True\n",
      "True\n"
     ]
    }
   ],
   "source": [
    "class A:\n",
    "    pass\n",
    "\n",
    "class B(A):  # <-- parent(or base) class(es)\n",
    "    pass\n",
    "\n",
    "a = A()\n",
    "b = B()\n",
    "print(isinstance(a, A))\n",
    "print(issubclass(B, A))\n",
    "print(issubclass(B, object))"
   ]
  },
  {
   "cell_type": "code",
   "execution_count": 38,
   "metadata": {},
   "outputs": [
    {
     "name": "stdout",
     "output_type": "stream",
     "text": [
      "class A foo\n"
     ]
    }
   ],
   "source": [
    "class A:\n",
    "    def foo(self):\n",
    "        print('class A foo')\n",
    "\n",
    "class B(A):\n",
    "    pass\n",
    "\n",
    "b = B()\n",
    "b.foo()  # <-- class be inherit all the methods from parent class A"
   ]
  },
  {
   "cell_type": "code",
   "execution_count": 39,
   "metadata": {},
   "outputs": [
    {
     "name": "stdout",
     "output_type": "stream",
     "text": [
      "class B foo\n"
     ]
    }
   ],
   "source": [
    "class A:\n",
    "    def foo(self):\n",
    "        print('class A foo')\n",
    "\n",
    "class B(A):\n",
    "    def foo(self):\n",
    "        print('class B foo')\n",
    "\n",
    "b = B()\n",
    "b.foo()  # <-- but it has the same method it will use it"
   ]
  },
  {
   "cell_type": "code",
   "execution_count": 42,
   "metadata": {},
   "outputs": [
    {
     "name": "stdout",
     "output_type": "stream",
     "text": [
      "init A called\n",
      "init C called\n",
      "class A foo\n"
     ]
    }
   ],
   "source": [
    "class A:\n",
    "    def __init__(self):\n",
    "        print('init A called')\n",
    "        \n",
    "    def foo(self):\n",
    "        print('class A foo')\n",
    "\n",
    "class B:\n",
    "    def __init__(self):\n",
    "        print('init B called')\n",
    "    \n",
    "    def foo(self):\n",
    "        print('class B foo')\n",
    "\n",
    "class C(A, B):\n",
    "    def __init__(self):\n",
    "        super().__init__()  # <-- called method of parent class\n",
    "        print('init C called')\n",
    "\n",
    "c = C()\n",
    "c.foo()"
   ]
  },
  {
   "cell_type": "markdown",
   "metadata": {},
   "source": [
    "## Polymorphism"
   ]
  },
  {
   "cell_type": "markdown",
   "metadata": {},
   "source": [
    "Polymorphism has two major applications in an OOP language. The first is that an object may provide different implementations of one of its methods depending on the type of the input parameters. The second is that code written for a given type of data may be used on data with a derived type, i.e. methods understand the class hierarchy of a type."
   ]
  },
  {
   "cell_type": "code",
   "execution_count": 50,
   "metadata": {},
   "outputs": [
    {
     "name": "stdout",
     "output_type": "stream",
     "text": [
      "<class 'list'>\n",
      "1\n",
      "2\n",
      "3\n",
      "<class 'dict'>\n",
      "2\n",
      "1\n",
      "3\n",
      "<class 'set'>\n",
      "1\n",
      "2\n",
      "3\n"
     ]
    }
   ],
   "source": [
    "a1 = [1,2,3]\n",
    "a2 = {'1': 1, '2': 2, '3':3}\n",
    "a3 = set([1,2,3])\n",
    "\n",
    "for obj in [a1,a2,a3]:\n",
    "    print(type(obj))\n",
    "    for a in obj:\n",
    "        print(a)"
   ]
  },
  {
   "cell_type": "code",
   "execution_count": 61,
   "metadata": {},
   "outputs": [
    {
     "name": "stdout",
     "output_type": "stream",
     "text": [
      "Hello\n",
      "Bonjour\n"
     ]
    }
   ],
   "source": [
    "class English:\n",
    "    def greeting(self):       \n",
    "        print (\"Hello\")\n",
    "        \n",
    "        \n",
    "class French:\n",
    "    def greeting(self):\n",
    "        print (\"Bonjour\")\n",
    "  \n",
    "  \n",
    "def intro(language):               \n",
    "    language.greeting()\n",
    "    \n",
    "    \n",
    "flora  = English()\n",
    "aalase = French()   \n",
    "\n",
    "intro(flora)  # <-- we can use same function for different class objects\n",
    "intro(aalase)"
   ]
  },
  {
   "cell_type": "markdown",
   "metadata": {},
   "source": [
    "# Magic methods"
   ]
  },
  {
   "cell_type": "markdown",
   "metadata": {},
   "source": [
    "\"Magic\" refers to the internal methods of classes, for example, the \\__init\\__ method.\n",
    "\n",
    "With the help of \"magic\" methods you can:\n",
    "\n",
    " - control access to the attributes of the instance,\n",
    "\n",
    " - reload operators, for example, comparison operators or arithmetic operators,\n",
    "\n",
    " - specify a string representation of an instance or change the way it is hashed.\n",
    "\n",
    "We will consider only some of the most commonly used methods.\n",
    "\n",
    "A detailed description of all the \"magic\" methods can be found in the documentation of the language.\n",
    " \n",
    "https://docs.python.org/3/reference/datamodel.html#special-method-names"
   ]
  },
  {
   "cell_type": "code",
   "execution_count": 48,
   "metadata": {},
   "outputs": [
    {
     "name": "stdout",
     "output_type": "stream",
     "text": [
      "foo_name\n"
     ]
    },
    {
     "data": {
      "text/plain": [
       "Object foo_name"
      ]
     },
     "execution_count": 48,
     "metadata": {},
     "output_type": "execute_result"
    }
   ],
   "source": [
    "class Foo:\n",
    "    def __init__(self, name):\n",
    "        self.name = name\n",
    "        \n",
    "    def __str__(self):\n",
    "        return self.name\n",
    "    \n",
    "    def __repr__(self):\n",
    "        return 'Object ' + self.name\n",
    "    \n",
    "foo = Foo('foo_name')\n",
    "print(foo)\n",
    "foo"
   ]
  },
  {
   "cell_type": "code",
   "execution_count": 54,
   "metadata": {},
   "outputs": [
    {
     "ename": "TypeError",
     "evalue": "unsupported operand type(s) for +: 'Foo' and 'Foo'",
     "output_type": "error",
     "traceback": [
      "\u001b[0;31m---------------------------------------------------------------------------\u001b[0m",
      "\u001b[0;31mTypeError\u001b[0m                                 Traceback (most recent call last)",
      "\u001b[0;32m<ipython-input-54-c2a5b21e913b>\u001b[0m in \u001b[0;36m<module>\u001b[0;34m()\u001b[0m\n\u001b[1;32m      4\u001b[0m \u001b[0mfoo1\u001b[0m \u001b[0;34m=\u001b[0m \u001b[0mFoo\u001b[0m\u001b[0;34m(\u001b[0m\u001b[0;34m)\u001b[0m\u001b[0;34m\u001b[0m\u001b[0m\n\u001b[1;32m      5\u001b[0m \u001b[0mfoo2\u001b[0m \u001b[0;34m=\u001b[0m \u001b[0mFoo\u001b[0m\u001b[0;34m(\u001b[0m\u001b[0;34m)\u001b[0m\u001b[0;34m\u001b[0m\u001b[0m\n\u001b[0;32m----> 6\u001b[0;31m \u001b[0mfoo1\u001b[0m \u001b[0;34m+\u001b[0m \u001b[0mfoo2\u001b[0m  \u001b[0;31m# <-- by default no method for addition is defined\u001b[0m\u001b[0;34m\u001b[0m\u001b[0m\n\u001b[0m",
      "\u001b[0;31mTypeError\u001b[0m: unsupported operand type(s) for +: 'Foo' and 'Foo'"
     ]
    }
   ],
   "source": [
    "class Foo:\n",
    "    x = 1\n",
    "\n",
    "foo1 = Foo()\n",
    "foo2 = Foo()\n",
    "foo1 + foo2  # <-- by default no method for addition is defined"
   ]
  },
  {
   "cell_type": "code",
   "execution_count": 55,
   "metadata": {},
   "outputs": [
    {
     "data": {
      "text/plain": [
       "2"
      ]
     },
     "execution_count": 55,
     "metadata": {},
     "output_type": "execute_result"
    }
   ],
   "source": [
    "class Foo:\n",
    "    x = 1\n",
    "    def __add__(self, other):\n",
    "        result = Foo()\n",
    "        result.x = self.x + other.x\n",
    "        return result\n",
    "\n",
    "foo1 = Foo()\n",
    "foo2 = Foo()\n",
    "res = foo1 + foo2\n",
    "res.x"
   ]
  },
  {
   "cell_type": "markdown",
   "metadata": {},
   "source": [
    "# Exceptions"
   ]
  },
  {
   "cell_type": "markdown",
   "metadata": {},
   "source": [
    "Exceptions occur when exceptional situations occur in your program. For example, what if you are going to read a file and the file does not exist? Or what if you accidentally deleted it when the program was running? Such situations are handled using exceptions.\n",
    "\n",
    "Similarly, what if your program had some invalid statements? This is handled by Python which raises its hands and tells you there is an error."
   ]
  },
  {
   "cell_type": "code",
   "execution_count": 56,
   "metadata": {},
   "outputs": [
    {
     "ename": "ValueError",
     "evalue": "invalid literal for int() with base 10: 'something'",
     "output_type": "error",
     "traceback": [
      "\u001b[0;31m---------------------------------------------------------------------------\u001b[0m",
      "\u001b[0;31mValueError\u001b[0m                                Traceback (most recent call last)",
      "\u001b[0;32m<ipython-input-56-9504ce8ab5f3>\u001b[0m in \u001b[0;36m<module>\u001b[0;34m()\u001b[0m\n\u001b[0;32m----> 1\u001b[0;31m \u001b[0mint\u001b[0m\u001b[0;34m(\u001b[0m\u001b[0;34m'something'\u001b[0m\u001b[0;34m)\u001b[0m\u001b[0;34m\u001b[0m\u001b[0m\n\u001b[0m",
      "\u001b[0;31mValueError\u001b[0m: invalid literal for int() with base 10: 'something'"
     ]
    }
   ],
   "source": [
    "int('something')"
   ]
  },
  {
   "cell_type": "markdown",
   "metadata": {},
   "source": [
    "We can handle exceptions using the `try..except` statement. We basically put our usual statements within the `try`-block and put all our error handlers in the `except`-block."
   ]
  },
  {
   "cell_type": "code",
   "execution_count": 58,
   "metadata": {},
   "outputs": [
    {
     "name": "stdout",
     "output_type": "stream",
     "text": [
      "Exception raised!\n"
     ]
    }
   ],
   "source": [
    "try:\n",
    "    int('something')\n",
    "except:\n",
    "    print('Exception raised!')"
   ]
  },
  {
   "cell_type": "markdown",
   "metadata": {},
   "source": [
    "# Raising Exceptions"
   ]
  },
  {
   "cell_type": "markdown",
   "metadata": {},
   "source": [
    "You can raise exceptions using the raise statement by providing the name of the error/exception and the exception object that is to be thrown.\n",
    "\n",
    "The error or exception that you can raise should be a class which directly or indirectly must be a derived class of the Exception class."
   ]
  },
  {
   "cell_type": "code",
   "execution_count": 59,
   "metadata": {},
   "outputs": [
    {
     "ename": "Exception",
     "evalue": "Some message",
     "output_type": "error",
     "traceback": [
      "\u001b[0;31m---------------------------------------------------------------------------\u001b[0m",
      "\u001b[0;31mException\u001b[0m                                 Traceback (most recent call last)",
      "\u001b[0;32m<ipython-input-59-fff501b333b2>\u001b[0m in \u001b[0;36m<module>\u001b[0;34m()\u001b[0m\n\u001b[1;32m      1\u001b[0m \u001b[0mm\u001b[0m \u001b[0;34m=\u001b[0m \u001b[0;36m11\u001b[0m\u001b[0;34m\u001b[0m\u001b[0m\n\u001b[1;32m      2\u001b[0m \u001b[0;32mif\u001b[0m \u001b[0mm\u001b[0m \u001b[0;34m>\u001b[0m \u001b[0;36m10\u001b[0m\u001b[0;34m:\u001b[0m\u001b[0;34m\u001b[0m\u001b[0m\n\u001b[0;32m----> 3\u001b[0;31m     \u001b[0;32mraise\u001b[0m \u001b[0mException\u001b[0m\u001b[0;34m(\u001b[0m\u001b[0;34m\"Some message\"\u001b[0m\u001b[0;34m)\u001b[0m\u001b[0;34m\u001b[0m\u001b[0m\n\u001b[0m",
      "\u001b[0;31mException\u001b[0m: Some message"
     ]
    }
   ],
   "source": [
    "m = 11\n",
    "if m > 10:\n",
    "    raise Exception(\"Some message\")"
   ]
  },
  {
   "cell_type": "markdown",
   "metadata": {},
   "source": [
    "# Try ... Finally"
   ]
  },
  {
   "cell_type": "markdown",
   "metadata": {},
   "source": [
    "Suppose you are reading a file in your program. How do you ensure that the file object is closed properly whether or not an exception was raised? This can be done using the finally block."
   ]
  },
  {
   "cell_type": "code",
   "execution_count": null,
   "metadata": {
    "collapsed": true
   },
   "outputs": [],
   "source": [
    "import sys\n",
    "import time\n",
    "\n",
    "f = None\n",
    "try:\n",
    "    f = open(\"poem.txt\")\n",
    "    # Our usual file-reading idiom\n",
    "    while True:\n",
    "        line = f.readline()\n",
    "        if len(line) == 0:\n",
    "            break\n",
    "        print(line, end='')\n",
    "        sys.stdout.flush()\n",
    "        print(\"Press ctrl+c now\")\n",
    "        # To make sure it runs for a while\n",
    "        time.sleep(2)\n",
    "except IOError:\n",
    "    print(\"Could not find file poem.txt\")\n",
    "except KeyboardInterrupt:\n",
    "    print(\"!! You cancelled the reading from the file.\")\n",
    "finally:\n",
    "    if f:\n",
    "        f.close()\n",
    "    print(\"(Cleaning up: Closed the file)\")"
   ]
  },
  {
   "cell_type": "markdown",
   "metadata": {},
   "source": [
    "# Context managers"
   ]
  },
  {
   "cell_type": "markdown",
   "metadata": {},
   "source": [
    "Acquiring a resource in the try block and subsequently releasing the resource in the finally block is a common pattern. Hence, there is also a with statement that enables this to be done in a clean manner:"
   ]
  },
  {
   "cell_type": "code",
   "execution_count": null,
   "metadata": {
    "collapsed": true
   },
   "outputs": [],
   "source": [
    "with open(\"poem.txt\") as f:\n",
    "    for line in f:\n",
    "        print(line, end='')"
   ]
  },
  {
   "cell_type": "markdown",
   "metadata": {},
   "source": [
    "The output should be same as the previous example. The difference here is that we are using the open function with the with statement - we leave the closing of the file to be done automatically by with open.\n",
    "\n",
    "What happens behind the scenes is that there is a protocol used by the with statement. It fetches the object returned by the open statement, let's call it \"thefile\" in this case.\n",
    "\n",
    "It always calls the thefile.\\__enter\\__ function before starting the block of code under it and always calls thefile.\\__exit\\__ after finishing the block of code.\n",
    "\n",
    "So the code that we would have written in a finally block should be taken care of automatically by the \\__exit\\__ method. This is what helps us to avoid having to use explicit try..finally statements repeatedly."
   ]
  },
  {
   "cell_type": "markdown",
   "metadata": {},
   "source": [
    "# Summary\n",
    "\n",
    "We not covered:\n",
    "        \n",
    "- \\__slots\\__\n",
    "- MRO\n",
    "- metaclasses\n",
    "- descriptors"
   ]
  }
 ],
 "metadata": {
  "kernelspec": {
   "display_name": "Local PySpark (Python-3.5 / Spark-2.1.0 )",
   "language": "python",
   "name": "py3spark_local"
  },
  "language_info": {
   "codemirror_mode": {
    "name": "ipython",
    "version": 3
   },
   "file_extension": ".py",
   "mimetype": "text/x-python",
   "name": "python",
   "nbconvert_exporter": "python",
   "pygments_lexer": "ipython3",
   "version": "3.5.2"
  }
 },
 "nbformat": 4,
 "nbformat_minor": 2
}
